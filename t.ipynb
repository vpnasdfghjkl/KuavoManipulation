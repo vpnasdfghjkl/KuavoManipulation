{
 "cells": [
  {
   "cell_type": "code",
   "execution_count": 40,
   "metadata": {},
   "outputs": [
    {
     "name": "stdout",
     "output_type": "stream",
     "text": [
      "Roll (x): 1.0935975653922911\n",
      "Pitch (y): 0.37438102514152233\n",
      "Yaw (z): 0.5371854083446743\n"
     ]
    }
   ],
   "source": [
    "import numpy as np\n",
    "\n",
    "trans = np.array([\n",
    "        [ 0.79232755,  0.48457278, -0.37068351,  0.43915629 ],\n",
    "        [ 0.04370907,  0.56093533,  0.82670495, -0.47573846],\n",
    "        [ 0.6085282 , -0.67122334,  0.4232643 ,  0.77638518],\n",
    "        [ 0,           0,           0,           1          ]\n",
    "    ]),\n",
    "\n",
    "import numpy as np\n",
    "\n",
    "# 4x4 变换矩阵\n",
    "trans = R = np.array([\n",
    "    [0.79964245,  0.47627515, -0.3656965],\n",
    "    [0.0440602,   0.56083086,  0.82675719],\n",
    "    [0.59885778, -0.6772228,   0.42747939]\n",
    "]).T\n",
    "\n",
    "# 提取旋转矩阵 R (3x3)\n",
    "R = trans[:3, :3]\n",
    "\n",
    "# 计算 rpy 角度\n",
    "yaw = np.arctan2(R[1, 0], R[0, 0])  # 偏航角\n",
    "pitch = np.arctan2(-R[2, 0], np.sqrt(R[2, 1]**2 + R[2, 2]**2))  # 俯仰角\n",
    "roll = np.arctan2(R[2, 1], R[2, 2])  # 滚转角\n",
    "\n",
    "# 输出 rpy 角度\n",
    "print(\"Roll (x):\", roll)\n",
    "print(\"Pitch (y):\", pitch)\n",
    "print(\"Yaw (z):\", yaw)\n",
    "\n"
   ]
  },
  {
   "cell_type": "code",
   "execution_count": null,
   "metadata": {},
   "outputs": [
    {
     "data": {
      "text/plain": [
       "array([-0.4503699 , -0.28883777, -0.12942766,  0.83485818])"
      ]
     },
     "execution_count": 28,
     "metadata": {},
     "output_type": "execute_result"
    }
   ],
   "source": [
    "import numpy as np\n",
    "\n",
    "# 定义旋转矩阵 R\n",
    "R = np.array([\n",
    "    [0.79964245,  0.47627515, -0.3656965 ],\n",
    "    [0.0440602,   0.56083086,  0.82675719],\n",
    "    [0.59885778, -0.6772228,   0.42747939]\n",
    "])\n",
    "\n",
    "# 计算四元数\n",
    "w = np.sqrt(1 + R[0, 0] + R[1, 1] + R[2, 2]) / 2\n",
    "x = np.sign(R[2, 1] - R[1, 2]) * np.sqrt(1 + R[0, 0] - R[1, 1] - R[2, 2]) / 2\n",
    "y = np.sign(R[0, 2] - R[2, 0]) * np.sqrt(1 - R[0, 0] + R[1, 1] - R[2, 2]) / 2\n",
    "z = np.sign(R[1, 0] - R[0, 1]) * np.sqrt(1 - R[0, 0] - R[1, 1] + R[2, 2]) / 2\n",
    "\n",
    "quaternion = np.array([ x, y, z, w ])\n",
    "quaternion\n"
   ]
  },
  {
   "cell_type": "code",
   "execution_count": 23,
   "metadata": {},
   "outputs": [
    {
     "data": {
      "text/plain": [
       "array([[-0.42747939,  0.82675719, -0.36569649],\n",
       "       [-0.6772228 , -0.56083086, -0.47627516],\n",
       "       [-0.59885779,  0.04406019,  0.79964245]])"
      ]
     },
     "execution_count": 23,
     "metadata": {},
     "output_type": "execute_result"
    }
   ],
   "source": [
    "# q to R\n",
    "import numpy\n",
    "import math\n",
    "q = quaternion\n",
    "q = q / numpy.linalg.norm(q)\n",
    "w, x, y, z = q\n",
    "R = numpy.array([\n",
    "    [1 - 2*y*y - 2*z*z, 2*x*y - 2*z*w, 2*x*z + 2*y*w],\n",
    "    [2*x*y + 2*z*w, 1 - 2*x*x - 2*z*z, 2*y*z - 2*x*w],\n",
    "    [2*x*z - 2*y*w, 2*y*z + 2*x*w, 1 - 2*x*x - 2*y*y]\n",
    "])  \n",
    "R"
   ]
  },
  {
   "cell_type": "code",
   "execution_count": null,
   "metadata": {},
   "outputs": [],
   "source": [
    "# relative note\n",
    "\n",
    "## image_transport\n",
    "```sh\n",
    "mkdir -p ~/hx/image_transport_ws/src\n",
    "cd ~/hx/image_transport_ws/src\n",
    "catkin_create_pkg img_transport_pkg sensor_msgs cv_bridge image_transport # or catkin_create_pkg img_transport_pkg\n",
    "mkdir -p img_transport_pkg/launch\n",
    "echo '<launch>\n",
    "  <node name=\"cam_3_compress\" pkg=\"image_transport\" type=\"republish\" output=\"screen\" args=\"raw in:=/cam_3/image_raw compressed out:=/cam_3/color\" />\n",
    "</launch>' > img_transport_pkg/compress_images.launch\n",
    "cd ~/hx/image_transport_ws\n",
    "catkin_make -DPYTHON_EXECUTABLE=/usr/bin/python3\n",
    "source devel/setup.zsh  # or source devel/setup.zsh\n",
    "roslaunch img_transport_pkg compress_images.launch\n",
    "```"
   ]
  }
 ],
 "metadata": {
  "kernelspec": {
   "display_name": "robodiff",
   "language": "python",
   "name": "python3"
  },
  "language_info": {
   "codemirror_mode": {
    "name": "ipython",
    "version": 3
   },
   "file_extension": ".py",
   "mimetype": "text/x-python",
   "name": "python",
   "nbconvert_exporter": "python",
   "pygments_lexer": "ipython3",
   "version": "3.9.18"
  }
 },
 "nbformat": 4,
 "nbformat_minor": 2
}
